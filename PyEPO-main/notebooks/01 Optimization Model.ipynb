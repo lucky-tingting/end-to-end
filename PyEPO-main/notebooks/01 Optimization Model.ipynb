{
 "cells": [
  {
   "cell_type": "markdown",
   "id": "ca58dec8",
   "metadata": {
    "id": "ca58dec8"
   },
   "source": [
    "## Install (Colab Only)\n",
    "Skip this step when running locally."
   ]
  },
  {
   "cell_type": "code",
   "execution_count": 1,
   "id": "a13701c2",
   "metadata": {
    "colab": {
     "base_uri": "https://localhost:8080/"
    },
    "id": "a13701c2",
    "outputId": "47d007ea-e660-4ed7-ccfe-8e0301731a92"
   },
   "outputs": [
    {
     "name": "stdout",
     "output_type": "stream",
     "text": [
      "Cloning into 'PyEPO'...\n",
      "remote: Enumerating objects: 20319, done.\u001b[K\n",
      "remote: Counting objects: 100% (4981/4981), done.\u001b[K\n",
      "remote: Compressing objects: 100% (3023/3023), done.\u001b[K\n",
      "remote: Total 20319 (delta 1948), reused 4914 (delta 1896), pack-reused 15338\u001b[K\n",
      "Receiving objects: 100% (20319/20319), 320.71 MiB | 17.65 MiB/s, done.\n",
      "Resolving deltas: 100% (7689/7689), done.\n",
      "Processing ./PyEPO/pkg\n",
      "  Preparing metadata (setup.py) ... \u001b[?25l\u001b[?25hdone\n",
      "Requirement already satisfied: numpy in /usr/local/lib/python3.10/dist-packages (from pyepo==0.3.2) (1.22.4)\n",
      "Requirement already satisfied: scipy in /usr/local/lib/python3.10/dist-packages (from pyepo==0.3.2) (1.10.1)\n",
      "Collecting pathos (from pyepo==0.3.2)\n",
      "  Downloading pathos-0.3.0-py3-none-any.whl (79 kB)\n",
      "\u001b[2K     \u001b[90m━━━━━━━━━━━━━━━━━━━━━━━━━━━━━━━━━━━━━━━━\u001b[0m \u001b[32m79.8/79.8 kB\u001b[0m \u001b[31m4.0 MB/s\u001b[0m eta \u001b[36m0:00:00\u001b[0m\n",
      "\u001b[?25hRequirement already satisfied: tqdm in /usr/local/lib/python3.10/dist-packages (from pyepo==0.3.2) (4.65.0)\n",
      "Collecting Pyomo>=6.1.2 (from pyepo==0.3.2)\n",
      "  Downloading Pyomo-6.6.1-cp310-cp310-manylinux_2_17_x86_64.manylinux2014_x86_64.whl (11.9 MB)\n",
      "\u001b[2K     \u001b[90m━━━━━━━━━━━━━━━━━━━━━━━━━━━━━━━━━━━━━━━━\u001b[0m \u001b[32m11.9/11.9 MB\u001b[0m \u001b[31m73.6 MB/s\u001b[0m eta \u001b[36m0:00:00\u001b[0m\n",
      "\u001b[?25hCollecting gurobipy>=9.1.2 (from pyepo==0.3.2)\n",
      "  Downloading gurobipy-10.0.2-cp310-cp310-manylinux2014_x86_64.whl (12.7 MB)\n",
      "\u001b[2K     \u001b[90m━━━━━━━━━━━━━━━━━━━━━━━━━━━━━━━━━━━━━━━━\u001b[0m \u001b[32m12.7/12.7 MB\u001b[0m \u001b[31m68.1 MB/s\u001b[0m eta \u001b[36m0:00:00\u001b[0m\n",
      "\u001b[?25hRequirement already satisfied: scikit_learn in /usr/local/lib/python3.10/dist-packages (from pyepo==0.3.2) (1.2.2)\n",
      "Requirement already satisfied: torch>=1.13.1 in /usr/local/lib/python3.10/dist-packages (from pyepo==0.3.2) (2.0.1+cu118)\n",
      "Collecting ply (from Pyomo>=6.1.2->pyepo==0.3.2)\n",
      "  Downloading ply-3.11-py2.py3-none-any.whl (49 kB)\n",
      "\u001b[2K     \u001b[90m━━━━━━━━━━━━━━━━━━━━━━━━━━━━━━━━━━━━━━━━\u001b[0m \u001b[32m49.6/49.6 kB\u001b[0m \u001b[31m4.6 MB/s\u001b[0m eta \u001b[36m0:00:00\u001b[0m\n",
      "\u001b[?25hRequirement already satisfied: filelock in /usr/local/lib/python3.10/dist-packages (from torch>=1.13.1->pyepo==0.3.2) (3.12.2)\n",
      "Requirement already satisfied: typing-extensions in /usr/local/lib/python3.10/dist-packages (from torch>=1.13.1->pyepo==0.3.2) (4.7.1)\n",
      "Requirement already satisfied: sympy in /usr/local/lib/python3.10/dist-packages (from torch>=1.13.1->pyepo==0.3.2) (1.11.1)\n",
      "Requirement already satisfied: networkx in /usr/local/lib/python3.10/dist-packages (from torch>=1.13.1->pyepo==0.3.2) (3.1)\n",
      "Requirement already satisfied: jinja2 in /usr/local/lib/python3.10/dist-packages (from torch>=1.13.1->pyepo==0.3.2) (3.1.2)\n",
      "Requirement already satisfied: triton==2.0.0 in /usr/local/lib/python3.10/dist-packages (from torch>=1.13.1->pyepo==0.3.2) (2.0.0)\n",
      "Requirement already satisfied: cmake in /usr/local/lib/python3.10/dist-packages (from triton==2.0.0->torch>=1.13.1->pyepo==0.3.2) (3.25.2)\n",
      "Requirement already satisfied: lit in /usr/local/lib/python3.10/dist-packages (from triton==2.0.0->torch>=1.13.1->pyepo==0.3.2) (16.0.6)\n",
      "Collecting ppft>=1.7.6.6 (from pathos->pyepo==0.3.2)\n",
      "  Downloading ppft-1.7.6.6-py3-none-any.whl (52 kB)\n",
      "\u001b[2K     \u001b[90m━━━━━━━━━━━━━━━━━━━━━━━━━━━━━━━━━━━━━━━━\u001b[0m \u001b[32m52.8/52.8 kB\u001b[0m \u001b[31m4.9 MB/s\u001b[0m eta \u001b[36m0:00:00\u001b[0m\n",
      "\u001b[?25hCollecting dill>=0.3.6 (from pathos->pyepo==0.3.2)\n",
      "  Downloading dill-0.3.6-py3-none-any.whl (110 kB)\n",
      "\u001b[2K     \u001b[90m━━━━━━━━━━━━━━━━━━━━━━━━━━━━━━━━━━━━━━━\u001b[0m \u001b[32m110.5/110.5 kB\u001b[0m \u001b[31m8.0 MB/s\u001b[0m eta \u001b[36m0:00:00\u001b[0m\n",
      "\u001b[?25hCollecting pox>=0.3.2 (from pathos->pyepo==0.3.2)\n",
      "  Downloading pox-0.3.2-py3-none-any.whl (29 kB)\n",
      "Collecting multiprocess>=0.70.14 (from pathos->pyepo==0.3.2)\n",
      "  Downloading multiprocess-0.70.14-py310-none-any.whl (134 kB)\n",
      "\u001b[2K     \u001b[90m━━━━━━━━━━━━━━━━━━━━━━━━━━━━━━━━━━━━━━\u001b[0m \u001b[32m134.3/134.3 kB\u001b[0m \u001b[31m13.3 MB/s\u001b[0m eta \u001b[36m0:00:00\u001b[0m\n",
      "\u001b[?25hRequirement already satisfied: joblib>=1.1.1 in /usr/local/lib/python3.10/dist-packages (from scikit_learn->pyepo==0.3.2) (1.3.1)\n",
      "Requirement already satisfied: threadpoolctl>=2.0.0 in /usr/local/lib/python3.10/dist-packages (from scikit_learn->pyepo==0.3.2) (3.1.0)\n",
      "Requirement already satisfied: MarkupSafe>=2.0 in /usr/local/lib/python3.10/dist-packages (from jinja2->torch>=1.13.1->pyepo==0.3.2) (2.1.3)\n",
      "Requirement already satisfied: mpmath>=0.19 in /usr/local/lib/python3.10/dist-packages (from sympy->torch>=1.13.1->pyepo==0.3.2) (1.3.0)\n",
      "Building wheels for collected packages: pyepo\n",
      "  Building wheel for pyepo (setup.py) ... \u001b[?25l\u001b[?25hdone\n",
      "  Created wheel for pyepo: filename=pyepo-0.3.2-py3-none-any.whl size=34599 sha256=59e1868b35c6f1942fef9db30017504f1256721f168b7024be9c30b2bf4d8584\n",
      "  Stored in directory: /tmp/pip-ephem-wheel-cache-wzrt6dcg/wheels/46/e0/92/19132b049913f800d1a8d6e61b81fe00bcac3f9d11ef30d2a5\n",
      "Successfully built pyepo\n",
      "Installing collected packages: ply, gurobipy, Pyomo, ppft, pox, dill, multiprocess, pathos, pyepo\n",
      "Successfully installed Pyomo-6.6.1 dill-0.3.6 gurobipy-10.0.2 multiprocess-0.70.14 pathos-0.3.0 ply-3.11 pox-0.3.2 ppft-1.7.6.6 pyepo-0.3.2\n"
     ]
    }
   ],
   "source": [
    "# download\n",
    "!git clone -b main --depth 1 https://github.com/khalil-research/PyEPO.git\n",
    "# install\n",
    "!pip install PyEPO/pkg/."
   ]
  },
  {
   "cell_type": "markdown",
   "id": "ebb79cf0",
   "metadata": {
    "id": "ebb79cf0"
   },
   "source": [
    "# Optimization Model"
   ]
  },
  {
   "cell_type": "markdown",
   "id": "1c786b61",
   "metadata": {
    "id": "1c786b61"
   },
   "source": [
    "PyEPO is an implementation that aims to support an end-to-end predict-then-optimize with linear objective function and unknown cost coefficients. The core component is the differentiable optimization solver, which is involved in updating the gradient of the cost coefficients with respect to the optimal solution.\n",
    "\n",
    "For ease of use, the implementation extends PyTorch's automatic function to construct the solver. As a result, users have the flexibility to select the solvers and algorithms and subsequently obtain the optimal solution while simultaneously computing the gradient.\n",
    "\n",
    "This tutorial will provide examples of building optimization models ``optModel`` with PyEPO."
   ]
  },
  {
   "cell_type": "markdown",
   "id": "1d22204c",
   "metadata": {
    "id": "1d22204c"
   },
   "source": [
    "## 1 Problem Example: Shortest Path"
   ]
  },
  {
   "cell_type": "markdown",
   "id": "687feac4",
   "metadata": {
    "id": "687feac4"
   },
   "source": [
    "Consider a 5x5 grid network, represented as a weighted graph. The figure shows that each node has top, bottom, left, and right neighbors. We aim to find the shortest path from left top to right bottom."
   ]
  },
  {
   "cell_type": "markdown",
   "id": "d3b6d561",
   "metadata": {
    "id": "d3b6d561"
   },
   "source": [
    "<img src=\"https://github.com/khalil-research/PyEPO/blob/main/images/shortestpath.png?raw=1\" width=\"500\">"
   ]
  },
  {
   "cell_type": "markdown",
   "id": "66ed00fc",
   "metadata": {
    "id": "66ed00fc"
   },
   "source": [
    "The weighted graph includes 25 nodes and 40 edges. The weights of the edges are the costs of the path. Let's set random weights."
   ]
  },
  {
   "cell_type": "code",
   "execution_count": 2,
   "id": "102b96aa",
   "metadata": {
    "id": "102b96aa"
   },
   "outputs": [],
   "source": [
    "import random\n",
    "# random seed\n",
    "random.seed(42)\n",
    "# set random cost for test\n",
    "cost = [random.random() for _ in range(40)]"
   ]
  },
  {
   "cell_type": "markdown",
   "id": "f740f6bb",
   "metadata": {
    "id": "f740f6bb"
   },
   "source": [
    "## 2 Introducation to optModel"
   ]
  },
  {
   "cell_type": "markdown",
   "id": "86a5a7dd",
   "metadata": {
    "id": "86a5a7dd"
   },
   "source": [
    "``optModel`` is a module of PyEPO library. It is not a solver but serves as a container of a solver or an algorithm. This design allows for flexibility in the selection of solvers and algorithms by users. ``optModel`` treats these solvers as black boxes and provides interfaces ``_getModel``, ``setObj``, and ``solve``. Other modules of PyEPO can use ``optModel`` for tasks such as training and testing.\n",
    "\n",
    "Methods of ``optModel``:\n",
    "- ``_getModel``: Build and return optimization solver and corresponding decision variables.\n",
    "- ``setObj``: Give a cost vector to set the objective function.\n",
    "- ``solve``: Solve optimization problem and return optimal solution and objective value."
   ]
  },
  {
   "cell_type": "markdown",
   "id": "34d3dcc7",
   "metadata": {
    "id": "34d3dcc7"
   },
   "source": [
    "### 2.1 Build Model with NetworkX and Dijkstra Agorithm"
   ]
  },
  {
   "cell_type": "markdown",
   "id": "9999f97b",
   "metadata": {
    "id": "9999f97b"
   },
   "source": [
    "We can build the graph with NetworkX and uses Dijkstra’s method to compute the shortest weighted path between two nodes in a graph."
   ]
  },
  {
   "cell_type": "code",
   "execution_count": 3,
   "id": "4f13bef4",
   "metadata": {
    "colab": {
     "base_uri": "https://localhost:8080/"
    },
    "id": "4f13bef4",
    "outputId": "10ee3c9f-c190-4a9d-c1f7-b928fe6d7e81"
   },
   "outputs": [
    {
     "name": "stdout",
     "output_type": "stream",
     "text": [
      "Auto-Sklearn cannot be imported.\n"
     ]
    }
   ],
   "source": [
    "import networkx as nx\n",
    "import numpy as np\n",
    "from pyepo.model.opt import optModel\n",
    "\n",
    "class myShortestPathModel1(optModel):\n",
    "\n",
    "    def __init__(self, grid):\n",
    "        \"\"\"\n",
    "        Args:\n",
    "            grid (tuple): size of grid network\n",
    "        \"\"\"\n",
    "        self.grid = grid\n",
    "        self.arcs = self._getArcs()\n",
    "        super().__init__()\n",
    "\n",
    "    def _getModel(self):\n",
    "        \"\"\"\n",
    "        A method to build model\n",
    "\n",
    "        Returns:\n",
    "            tuple: optimization model and variables\n",
    "        \"\"\"\n",
    "        # build graph as optimization model\n",
    "        g = nx.Graph()\n",
    "        # add arcs as variables\n",
    "        g.add_edges_from(self.arcs, cost=0)\n",
    "        return g, g.edges\n",
    "\n",
    "    def setObj(self, c):\n",
    "        \"\"\"\n",
    "        A method to set objective function\n",
    "\n",
    "        Args:\n",
    "            c (ndarray): cost of objective function\n",
    "        \"\"\"\n",
    "        # set weights for edges\n",
    "        for i, e in enumerate(self.arcs):\n",
    "            self._model.edges[e][\"cost\"] = c[i]\n",
    "\n",
    "    def solve(self):\n",
    "        \"\"\"\n",
    "        A method to solve model\n",
    "\n",
    "        Returns:\n",
    "            tuple: optimal solution (list) and objective value (float)\n",
    "        \"\"\"\n",
    "        # dijkstra\n",
    "        path = nx.shortest_path(self._model, weight=\"cost\", source=0, target=self.grid[0]*self.grid[1]-1)\n",
    "        # convert path into active edges\n",
    "        edges = []\n",
    "        u = 0\n",
    "        for v in path[1:]:\n",
    "            edges.append((u,v))\n",
    "            u = v\n",
    "        # init sol & obj\n",
    "        sol = np.zeros(self.num_cost)\n",
    "        obj = 0\n",
    "        # convert active edges into solution and obj\n",
    "        for i, e in enumerate(self.arcs):\n",
    "            if e in edges:\n",
    "                sol[i] = 1 # active edge\n",
    "                obj += self._model.edges[e][\"cost\"] # cost of active edge\n",
    "        return sol, obj\n",
    "\n",
    "    def _getArcs(self):\n",
    "        \"\"\"\n",
    "        A helper method to get list of arcs for grid network\n",
    "\n",
    "        Returns:\n",
    "            list: arcs\n",
    "        \"\"\"\n",
    "        arcs = []\n",
    "        for i in range(self.grid[0]):\n",
    "            # edges on rows\n",
    "            for j in range(self.grid[1] - 1):\n",
    "                v = i * self.grid[1] + j\n",
    "                arcs.append((v, v + 1))\n",
    "            # edges on columns\n",
    "            if i == self.grid[0] - 1:\n",
    "                continue\n",
    "            for j in range(self.grid[1]):\n",
    "                v = i * self.grid[1] + j\n",
    "                arcs.append((v, v + self.grid[1]))\n",
    "        return arcs"
   ]
  },
  {
   "cell_type": "code",
   "execution_count": 4,
   "id": "9e1c381b",
   "metadata": {
    "colab": {
     "base_uri": "https://localhost:8080/"
    },
    "id": "9e1c381b",
    "outputId": "d5a71ffa-2029-423b-9564-0350f8dc31a7"
   },
   "outputs": [
    {
     "name": "stdout",
     "output_type": "stream",
     "text": [
      "Obj: 2.2869938328922332\n",
      "(0, 1)\n",
      "(1, 2)\n",
      "(2, 3)\n",
      "(3, 8)\n",
      "(8, 9)\n",
      "(9, 14)\n",
      "(14, 19)\n",
      "(19, 24)\n"
     ]
    }
   ],
   "source": [
    "# solve model\n",
    "optmodel = myShortestPathModel1(grid=(5,5)) # init model\n",
    "optmodel.setObj(cost) # set objective function\n",
    "sol, obj = optmodel.solve() # solve\n",
    "# print res\n",
    "print('Obj: {}'.format(obj))\n",
    "for i, e in enumerate(optmodel.arcs):\n",
    "    if sol[i] > 1e-3:\n",
    "        print(e)"
   ]
  },
  {
   "cell_type": "markdown",
   "id": "7a22c77a",
   "metadata": {
    "id": "7a22c77a"
   },
   "source": [
    "### 2.2 Build Model with GurobiPy and Linear Programming"
   ]
  },
  {
   "cell_type": "markdown",
   "id": "6014f360",
   "metadata": {
    "id": "6014f360"
   },
   "source": [
    "``optModel`` also allows users to employ optimization modeling languages such as GurobiPy and Pyomo. For example, with ``optGrbModel``, users can easily use Gurobi to create an LP model via overwriting ``_getModel``. Similarly, ``optGrbModel`` support Pyomo."
   ]
  },
  {
   "cell_type": "code",
   "execution_count": 5,
   "id": "e64fbf71",
   "metadata": {
    "id": "e64fbf71"
   },
   "outputs": [],
   "source": [
    "import gurobipy as gp\n",
    "from gurobipy import GRB\n",
    "from pyepo.model.grb import optGrbModel\n",
    "\n",
    "class myShortestPathModel2(optGrbModel):\n",
    "\n",
    "    def __init__(self, grid):\n",
    "        \"\"\"\n",
    "        Args:\n",
    "            grid (tuple of int): size of grid network\n",
    "        \"\"\"\n",
    "        self.grid = grid\n",
    "        self.arcs = self._getArcs()\n",
    "        super().__init__()\n",
    "\n",
    "    def _getModel(self):\n",
    "        \"\"\"\n",
    "        A method to build Gurobi model\n",
    "\n",
    "        Returns:\n",
    "            tuple: optimization model and variables\n",
    "        \"\"\"\n",
    "        # ceate a model\n",
    "        m = gp.Model(\"shortest path\")\n",
    "        # varibles\n",
    "        x = m.addVars(self.arcs, name=\"x\")\n",
    "        # sense\n",
    "        m.modelSense = GRB.MINIMIZE\n",
    "        # constraints\n",
    "        for i in range(self.grid[0]):\n",
    "            for j in range(self.grid[1]):\n",
    "                v = i * self.grid[1] + j\n",
    "                expr = 0\n",
    "                for e in self.arcs:\n",
    "                    # flow in\n",
    "                    if v == e[1]:\n",
    "                        expr += x[e]\n",
    "                    # flow out\n",
    "                    elif v == e[0]:\n",
    "                        expr -= x[e]\n",
    "                # source\n",
    "                if i == 0 and j == 0:\n",
    "                    m.addConstr(expr == -1)\n",
    "                # sink\n",
    "                elif i == self.grid[0] - 1 and j == self.grid[0] - 1:\n",
    "                    m.addConstr(expr == 1)\n",
    "                # transition\n",
    "                else:\n",
    "                    m.addConstr(expr == 0)\n",
    "        return m, x\n",
    "\n",
    "\n",
    "    def _getArcs(self):\n",
    "        \"\"\"\n",
    "        A helper method to get list of arcs for grid network\n",
    "\n",
    "        Returns:\n",
    "            list: arcs\n",
    "        \"\"\"\n",
    "        arcs = []\n",
    "        for i in range(self.grid[0]):\n",
    "            # edges on rows\n",
    "            for j in range(self.grid[1] - 1):\n",
    "                v = i * self.grid[1] + j\n",
    "                arcs.append((v, v + 1))\n",
    "            # edges in columns\n",
    "            if i == self.grid[0] - 1:\n",
    "                continue\n",
    "            for j in range(self.grid[1]):\n",
    "                v = i * self.grid[1] + j\n",
    "                arcs.append((v, v + self.grid[1]))\n",
    "        return arcs"
   ]
  },
  {
   "cell_type": "code",
   "execution_count": 6,
   "id": "a9e21c5c",
   "metadata": {
    "colab": {
     "base_uri": "https://localhost:8080/"
    },
    "id": "a9e21c5c",
    "outputId": "11c10a34-74aa-4cb9-86e4-74a2064e5dfc"
   },
   "outputs": [
    {
     "name": "stdout",
     "output_type": "stream",
     "text": [
      "Restricted license - for non-production use only - expires 2024-10-28\n",
      "Obj: 2.2869938328922332\n",
      "(0, 1)\n",
      "(1, 2)\n",
      "(2, 3)\n",
      "(3, 8)\n",
      "(8, 9)\n",
      "(9, 14)\n",
      "(14, 19)\n",
      "(19, 24)\n"
     ]
    }
   ],
   "source": [
    "# solve model\n",
    "optmodel = myShortestPathModel2(grid=(5,5)) # init model\n",
    "optmodel.setObj(cost) # set objective function\n",
    "sol, obj = optmodel.solve() # solve\n",
    "# print res\n",
    "print('Obj: {}'.format(obj))\n",
    "for i, e in enumerate(optmodel.arcs):\n",
    "    if sol[i] > 1e-3:\n",
    "        print(e)"
   ]
  },
  {
   "cell_type": "markdown",
   "id": "3ef9c3a6",
   "metadata": {
    "id": "3ef9c3a6"
   },
   "source": [
    "### 2.3  Pre-defined Gurobi Model"
   ]
  },
  {
   "cell_type": "markdown",
   "id": "9c406b8d",
   "metadata": {
    "id": "9c406b8d"
   },
   "source": [
    "PyEPO contains several pre-defined optimization models with GurobiPy and Pyomo."
   ]
  },
  {
   "cell_type": "code",
   "execution_count": 7,
   "id": "022aaa36",
   "metadata": {
    "id": "022aaa36"
   },
   "outputs": [],
   "source": [
    "# shortest path on the grid network\n",
    "from pyepo.model.grb import shortestPathModel"
   ]
  },
  {
   "cell_type": "code",
   "execution_count": 8,
   "id": "1bcc17e0",
   "metadata": {
    "colab": {
     "base_uri": "https://localhost:8080/"
    },
    "id": "1bcc17e0",
    "outputId": "9f3522e7-5190-41ff-db32-bb9a17ad9dfa"
   },
   "outputs": [
    {
     "name": "stdout",
     "output_type": "stream",
     "text": [
      "Obj: 2.2869938328922332\n",
      "(0, 1)\n",
      "(1, 2)\n",
      "(2, 3)\n",
      "(3, 8)\n",
      "(8, 9)\n",
      "(9, 14)\n",
      "(14, 19)\n",
      "(19, 24)\n"
     ]
    }
   ],
   "source": [
    "# solve model\n",
    "optmodel = shortestPathModel(grid=(5,5)) # init model\n",
    "optmodel.setObj(cost) # set objective function\n",
    "sol, obj = optmodel.solve() # solve\n",
    "# print res\n",
    "print('Obj: {}'.format(obj))\n",
    "for i, e in enumerate(optmodel.arcs):\n",
    "    if sol[i] > 1e-3:\n",
    "        print(e)"
   ]
  },
  {
   "cell_type": "code",
   "execution_count": 8,
   "id": "de6feb58",
   "metadata": {
    "id": "de6feb58"
   },
   "outputs": [],
   "source": []
  }
 ],
 "metadata": {
  "colab": {
   "provenance": []
  },
  "kernelspec": {
   "display_name": "Python 3 (ipykernel)",
   "language": "python",
   "name": "python3"
  },
  "language_info": {
   "codemirror_mode": {
    "name": "ipython",
    "version": 3
   },
   "file_extension": ".py",
   "mimetype": "text/x-python",
   "name": "python",
   "nbconvert_exporter": "python",
   "pygments_lexer": "ipython3",
   "version": "3.10.12"
  }
 },
 "nbformat": 4,
 "nbformat_minor": 5
}
